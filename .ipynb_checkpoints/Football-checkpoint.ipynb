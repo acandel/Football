{
 "cells": [
  {
   "cell_type": "code",
   "execution_count": 1,
   "id": "b90dd59a-1a1e-4711-a6e8-bc0b0c3122c2",
   "metadata": {
    "tags": []
   },
   "outputs": [],
   "source": [
    "import pandas as pd\n",
    "import numpy as np\n",
    "import matplotlib.pyplot as plt"
   ]
  },
  {
   "cell_type": "code",
   "execution_count": 2,
   "id": "62efdcfa-25ae-46a0-b1f1-39d48636af2e",
   "metadata": {
    "tags": []
   },
   "outputs": [],
   "source": [
    "df = pd.read_csv(\"football.csv\", delimiter = \";\")"
   ]
  },
  {
   "cell_type": "code",
   "execution_count": 38,
   "id": "ff2330b0-9f15-43d6-9fe5-da876f79aa79",
   "metadata": {
    "tags": []
   },
   "outputs": [
    {
     "data": {
      "text/html": [
       "<div>\n",
       "<style scoped>\n",
       "    .dataframe tbody tr th:only-of-type {\n",
       "        vertical-align: middle;\n",
       "    }\n",
       "\n",
       "    .dataframe tbody tr th {\n",
       "        vertical-align: top;\n",
       "    }\n",
       "\n",
       "    .dataframe thead th {\n",
       "        text-align: right;\n",
       "    }\n",
       "</style>\n",
       "<table border=\"1\" class=\"dataframe\">\n",
       "  <thead>\n",
       "    <tr style=\"text-align: right;\">\n",
       "      <th></th>\n",
       "      <th>date</th>\n",
       "      <th>home_team</th>\n",
       "      <th>away_team</th>\n",
       "      <th>home_score</th>\n",
       "      <th>away_score</th>\n",
       "      <th>tournament</th>\n",
       "      <th>city</th>\n",
       "      <th>country</th>\n",
       "      <th>neutral</th>\n",
       "    </tr>\n",
       "  </thead>\n",
       "  <tbody>\n",
       "    <tr>\n",
       "      <th>0</th>\n",
       "      <td>1872-11-30 00:00:00</td>\n",
       "      <td>Scotland</td>\n",
       "      <td>England</td>\n",
       "      <td>0</td>\n",
       "      <td>0</td>\n",
       "      <td>Friendly</td>\n",
       "      <td>Glasgow</td>\n",
       "      <td>Scotland</td>\n",
       "      <td>False</td>\n",
       "    </tr>\n",
       "    <tr>\n",
       "      <th>1</th>\n",
       "      <td>1873-03-08 00:00:00</td>\n",
       "      <td>England</td>\n",
       "      <td>Scotland</td>\n",
       "      <td>4</td>\n",
       "      <td>2</td>\n",
       "      <td>Friendly</td>\n",
       "      <td>London</td>\n",
       "      <td>England</td>\n",
       "      <td>False</td>\n",
       "    </tr>\n",
       "    <tr>\n",
       "      <th>2</th>\n",
       "      <td>1874-03-07 00:00:00</td>\n",
       "      <td>Scotland</td>\n",
       "      <td>England</td>\n",
       "      <td>2</td>\n",
       "      <td>1</td>\n",
       "      <td>Friendly</td>\n",
       "      <td>Glasgow</td>\n",
       "      <td>Scotland</td>\n",
       "      <td>False</td>\n",
       "    </tr>\n",
       "    <tr>\n",
       "      <th>3</th>\n",
       "      <td>1875-03-06 00:00:00</td>\n",
       "      <td>England</td>\n",
       "      <td>Scotland</td>\n",
       "      <td>2</td>\n",
       "      <td>2</td>\n",
       "      <td>Friendly</td>\n",
       "      <td>London</td>\n",
       "      <td>England</td>\n",
       "      <td>False</td>\n",
       "    </tr>\n",
       "    <tr>\n",
       "      <th>4</th>\n",
       "      <td>1876-03-04 00:00:00</td>\n",
       "      <td>Scotland</td>\n",
       "      <td>England</td>\n",
       "      <td>3</td>\n",
       "      <td>0</td>\n",
       "      <td>Friendly</td>\n",
       "      <td>Glasgow</td>\n",
       "      <td>Scotland</td>\n",
       "      <td>False</td>\n",
       "    </tr>\n",
       "  </tbody>\n",
       "</table>\n",
       "</div>"
      ],
      "text/plain": [
       "                  date home_team away_team  home_score  away_score tournament  \\\n",
       "0  1872-11-30 00:00:00  Scotland   England           0           0   Friendly   \n",
       "1  1873-03-08 00:00:00   England  Scotland           4           2   Friendly   \n",
       "2  1874-03-07 00:00:00  Scotland   England           2           1   Friendly   \n",
       "3  1875-03-06 00:00:00   England  Scotland           2           2   Friendly   \n",
       "4  1876-03-04 00:00:00  Scotland   England           3           0   Friendly   \n",
       "\n",
       "      city   country  neutral  \n",
       "0  Glasgow  Scotland    False  \n",
       "1   London   England    False  \n",
       "2  Glasgow  Scotland    False  \n",
       "3   London   England    False  \n",
       "4  Glasgow  Scotland    False  "
      ]
     },
     "execution_count": 38,
     "metadata": {},
     "output_type": "execute_result"
    }
   ],
   "source": [
    "df.head()"
   ]
  },
  {
   "cell_type": "code",
   "execution_count": 4,
   "id": "1fda5faa-f7ee-4bfb-a41e-46c938122773",
   "metadata": {
    "tags": []
   },
   "outputs": [
    {
     "data": {
      "text/plain": [
       "Index(['date', 'home_team', 'away_team', 'home_score', 'away_score',\n",
       "       'tournament', 'city', 'country', 'neutral'],\n",
       "      dtype='object')"
      ]
     },
     "execution_count": 4,
     "metadata": {},
     "output_type": "execute_result"
    }
   ],
   "source": [
    "df.columns"
   ]
  },
  {
   "cell_type": "markdown",
   "id": "79ae4863-b7ef-4047-bc54-660d5c6a9b22",
   "metadata": {},
   "source": [
    "How many tuples are there in the dataset?"
   ]
  },
  {
   "cell_type": "code",
   "execution_count": 5,
   "id": "64318dce-7793-4b23-a61e-4c07b2b3e2ec",
   "metadata": {
    "tags": []
   },
   "outputs": [
    {
     "data": {
      "text/plain": [
       "42650"
      ]
     },
     "execution_count": 5,
     "metadata": {},
     "output_type": "execute_result"
    }
   ],
   "source": [
    "df.shape[0]"
   ]
  },
  {
   "cell_type": "markdown",
   "id": "5b928376-3549-4c56-8332-b19d5edf00d2",
   "metadata": {},
   "source": [
    "How many tournaments are there in the dataset?"
   ]
  },
  {
   "cell_type": "code",
   "execution_count": 6,
   "id": "397478d9-c028-4246-81fd-9abcb83fe8a4",
   "metadata": {
    "tags": []
   },
   "outputs": [
    {
     "data": {
      "text/plain": [
       "120"
      ]
     },
     "execution_count": 6,
     "metadata": {},
     "output_type": "execute_result"
    }
   ],
   "source": [
    "len(df[\"tournament\"].unique())"
   ]
  },
  {
   "cell_type": "code",
   "execution_count": 7,
   "id": "42010fa3-7600-4a3f-a508-b5cbf1311517",
   "metadata": {
    "tags": []
   },
   "outputs": [
    {
     "data": {
      "text/plain": [
       "str"
      ]
     },
     "execution_count": 7,
     "metadata": {},
     "output_type": "execute_result"
    }
   ],
   "source": [
    "type(df.loc[0, \"date\"])"
   ]
  },
  {
   "cell_type": "code",
   "execution_count": 8,
   "id": "685266f9-4aaf-4d5c-9cb4-9b19667cfc1a",
   "metadata": {
    "tags": []
   },
   "outputs": [],
   "source": [
    "for i in df.index:\n",
    "    df.loc[i, \"date\"]  = pd.Timestamp(df.loc[i, \"date\"])"
   ]
  },
  {
   "cell_type": "markdown",
   "id": "5d06cd7b-85ec-4017-94dd-f79fb5ef7b2c",
   "metadata": {
    "tags": []
   },
   "source": [
    "Find out how many matches in the dataset were played in 2018."
   ]
  },
  {
   "cell_type": "code",
   "execution_count": 9,
   "id": "8e627e54-b61c-4a12-83c4-be70bd08e049",
   "metadata": {
    "tags": []
   },
   "outputs": [
    {
     "name": "stdout",
     "output_type": "stream",
     "text": [
      "908\n"
     ]
    }
   ],
   "source": [
    "cont = 0\n",
    "for i in df.index:\n",
    "    if df.loc[i,\"date\"].year == 2018:\n",
    "        cont += 1\n",
    "print(cont)"
   ]
  },
  {
   "cell_type": "markdown",
   "id": "f642c360-8e31-4ebd-9107-6133449a5f6e",
   "metadata": {},
   "source": [
    "Calculate how many times the home team won, lost, or had a draw."
   ]
  },
  {
   "cell_type": "code",
   "execution_count": 10,
   "id": "2ae90a40-234d-481c-a5cb-9210e39342e9",
   "metadata": {
    "tags": []
   },
   "outputs": [
    {
     "data": {
      "text/html": [
       "<div>\n",
       "<style scoped>\n",
       "    .dataframe tbody tr th:only-of-type {\n",
       "        vertical-align: middle;\n",
       "    }\n",
       "\n",
       "    .dataframe tbody tr th {\n",
       "        vertical-align: top;\n",
       "    }\n",
       "\n",
       "    .dataframe thead th {\n",
       "        text-align: right;\n",
       "    }\n",
       "</style>\n",
       "<table border=\"1\" class=\"dataframe\">\n",
       "  <thead>\n",
       "    <tr style=\"text-align: right;\">\n",
       "      <th></th>\n",
       "      <th>date</th>\n",
       "      <th>home_team</th>\n",
       "      <th>away_team</th>\n",
       "      <th>home_score</th>\n",
       "      <th>away_score</th>\n",
       "      <th>tournament</th>\n",
       "      <th>city</th>\n",
       "      <th>country</th>\n",
       "      <th>neutral</th>\n",
       "    </tr>\n",
       "  </thead>\n",
       "  <tbody>\n",
       "    <tr>\n",
       "      <th>0</th>\n",
       "      <td>1872-11-30 00:00:00</td>\n",
       "      <td>Scotland</td>\n",
       "      <td>England</td>\n",
       "      <td>0</td>\n",
       "      <td>0</td>\n",
       "      <td>Friendly</td>\n",
       "      <td>Glasgow</td>\n",
       "      <td>Scotland</td>\n",
       "      <td>False</td>\n",
       "    </tr>\n",
       "    <tr>\n",
       "      <th>1</th>\n",
       "      <td>1873-03-08 00:00:00</td>\n",
       "      <td>England</td>\n",
       "      <td>Scotland</td>\n",
       "      <td>4</td>\n",
       "      <td>2</td>\n",
       "      <td>Friendly</td>\n",
       "      <td>London</td>\n",
       "      <td>England</td>\n",
       "      <td>False</td>\n",
       "    </tr>\n",
       "    <tr>\n",
       "      <th>2</th>\n",
       "      <td>1874-03-07 00:00:00</td>\n",
       "      <td>Scotland</td>\n",
       "      <td>England</td>\n",
       "      <td>2</td>\n",
       "      <td>1</td>\n",
       "      <td>Friendly</td>\n",
       "      <td>Glasgow</td>\n",
       "      <td>Scotland</td>\n",
       "      <td>False</td>\n",
       "    </tr>\n",
       "    <tr>\n",
       "      <th>3</th>\n",
       "      <td>1875-03-06 00:00:00</td>\n",
       "      <td>England</td>\n",
       "      <td>Scotland</td>\n",
       "      <td>2</td>\n",
       "      <td>2</td>\n",
       "      <td>Friendly</td>\n",
       "      <td>London</td>\n",
       "      <td>England</td>\n",
       "      <td>False</td>\n",
       "    </tr>\n",
       "    <tr>\n",
       "      <th>4</th>\n",
       "      <td>1876-03-04 00:00:00</td>\n",
       "      <td>Scotland</td>\n",
       "      <td>England</td>\n",
       "      <td>3</td>\n",
       "      <td>0</td>\n",
       "      <td>Friendly</td>\n",
       "      <td>Glasgow</td>\n",
       "      <td>Scotland</td>\n",
       "      <td>False</td>\n",
       "    </tr>\n",
       "  </tbody>\n",
       "</table>\n",
       "</div>"
      ],
      "text/plain": [
       "                  date home_team away_team  home_score  away_score tournament  \\\n",
       "0  1872-11-30 00:00:00  Scotland   England           0           0   Friendly   \n",
       "1  1873-03-08 00:00:00   England  Scotland           4           2   Friendly   \n",
       "2  1874-03-07 00:00:00  Scotland   England           2           1   Friendly   \n",
       "3  1875-03-06 00:00:00   England  Scotland           2           2   Friendly   \n",
       "4  1876-03-04 00:00:00  Scotland   England           3           0   Friendly   \n",
       "\n",
       "      city   country  neutral  \n",
       "0  Glasgow  Scotland    False  \n",
       "1   London   England    False  \n",
       "2  Glasgow  Scotland    False  \n",
       "3   London   England    False  \n",
       "4  Glasgow  Scotland    False  "
      ]
     },
     "execution_count": 10,
     "metadata": {},
     "output_type": "execute_result"
    }
   ],
   "source": [
    "df.head()"
   ]
  },
  {
   "cell_type": "code",
   "execution_count": 11,
   "id": "62f9d282-f6bc-4a2d-a2ad-e4186433acac",
   "metadata": {
    "tags": []
   },
   "outputs": [],
   "source": [
    "homeTeam = {\n",
    "    \"won\":0,\n",
    "    \"lost\":0,\n",
    "    \"draw\":0,\n",
    " \n",
    "}"
   ]
  },
  {
   "cell_type": "code",
   "execution_count": 12,
   "id": "35cae835-f102-454d-9152-bb59f7d9ce4f",
   "metadata": {
    "tags": []
   },
   "outputs": [],
   "source": [
    "for i in df.index:\n",
    "    home = df.loc[i, \"home_score\"]\n",
    "    away = df.loc[i, \"away_score\"]\n",
    "    if home == away:\n",
    "        homeTeam[\"draw\"] = homeTeam[\"draw\"] + 1\n",
    "    elif home > away:\n",
    "        homeTeam[\"won\"] = homeTeam[\"won\"] + 1\n",
    "    elif home < away:\n",
    "        homeTeam[\"lost\"] = homeTeam[\"lost\"] + 1\n",
    "    else:\n",
    "        homeTeam[\"error\"] = homeTeam[\"error\"] + 1"
   ]
  },
  {
   "cell_type": "code",
   "execution_count": 13,
   "id": "f674a428-83cf-4b52-b8e2-42b4cc7cf958",
   "metadata": {
    "tags": []
   },
   "outputs": [
    {
     "data": {
      "text/html": [
       "<div>\n",
       "<style scoped>\n",
       "    .dataframe tbody tr th:only-of-type {\n",
       "        vertical-align: middle;\n",
       "    }\n",
       "\n",
       "    .dataframe tbody tr th {\n",
       "        vertical-align: top;\n",
       "    }\n",
       "\n",
       "    .dataframe thead th {\n",
       "        text-align: right;\n",
       "    }\n",
       "</style>\n",
       "<table border=\"1\" class=\"dataframe\">\n",
       "  <thead>\n",
       "    <tr style=\"text-align: right;\">\n",
       "      <th></th>\n",
       "      <th>Total</th>\n",
       "    </tr>\n",
       "  </thead>\n",
       "  <tbody>\n",
       "    <tr>\n",
       "      <th>won</th>\n",
       "      <td>20739</td>\n",
       "    </tr>\n",
       "    <tr>\n",
       "      <th>lost</th>\n",
       "      <td>12074</td>\n",
       "    </tr>\n",
       "    <tr>\n",
       "      <th>draw</th>\n",
       "      <td>9837</td>\n",
       "    </tr>\n",
       "  </tbody>\n",
       "</table>\n",
       "</div>"
      ],
      "text/plain": [
       "      Total\n",
       "won   20739\n",
       "lost  12074\n",
       "draw   9837"
      ]
     },
     "execution_count": 13,
     "metadata": {},
     "output_type": "execute_result"
    }
   ],
   "source": [
    "home_team = pd.DataFrame(homeTeam.values(), homeTeam.keys(), columns = [\"Total\"])\n",
    "home_team"
   ]
  },
  {
   "cell_type": "code",
   "execution_count": 29,
   "id": "b1cf3e9f-0f85-49bf-8f45-fd5fadfaa1b3",
   "metadata": {
    "tags": []
   },
   "outputs": [
    {
     "data": {
      "text/plain": [
       "<matplotlib.legend.Legend at 0x3036cfa90>"
      ]
     },
     "execution_count": 29,
     "metadata": {},
     "output_type": "execute_result"
    },
    {
     "data": {
      "image/png": "[encoded data removed]",
      "text/plain": [
       "<Figure size 1800x500 with 1 Axes>"
      ]
     },
     "metadata": {},
     "output_type": "display_data"
    }
   ],
   "source": [
    "plt.figure(figsize =(18,5))\n",
    "plt.title(\"Home team won, lost and draw\")\n",
    "plt.pie(home_team[\"Total\"], \n",
    "        explode = [0.05,0.01,0.01],\n",
    "        labels = home_team.index,\n",
    "        shadow = True,\n",
    "        autopct='%1.1f%%')\n",
    "plt.legend(loc = \"upper left\",labels = home_team.index,bbox_to_anchor=(1, 1.1))"
   ]
  },
  {
   "cell_type": "code",
   "execution_count": 15,
   "id": "e11d8305-f5b7-4462-8c18-92e7f7e727df",
   "metadata": {
    "tags": []
   },
   "outputs": [
    {
     "data": {
      "text/html": [
       "<div>\n",
       "<style scoped>\n",
       "    .dataframe tbody tr th:only-of-type {\n",
       "        vertical-align: middle;\n",
       "    }\n",
       "\n",
       "    .dataframe tbody tr th {\n",
       "        vertical-align: top;\n",
       "    }\n",
       "\n",
       "    .dataframe thead th {\n",
       "        text-align: right;\n",
       "    }\n",
       "</style>\n",
       "<table border=\"1\" class=\"dataframe\">\n",
       "  <thead>\n",
       "    <tr style=\"text-align: right;\">\n",
       "      <th></th>\n",
       "      <th>date</th>\n",
       "      <th>home_team</th>\n",
       "      <th>away_team</th>\n",
       "      <th>home_score</th>\n",
       "      <th>away_score</th>\n",
       "      <th>tournament</th>\n",
       "      <th>city</th>\n",
       "      <th>country</th>\n",
       "      <th>neutral</th>\n",
       "    </tr>\n",
       "  </thead>\n",
       "  <tbody>\n",
       "    <tr>\n",
       "      <th>0</th>\n",
       "      <td>1872-11-30 00:00:00</td>\n",
       "      <td>Scotland</td>\n",
       "      <td>England</td>\n",
       "      <td>0</td>\n",
       "      <td>0</td>\n",
       "      <td>Friendly</td>\n",
       "      <td>Glasgow</td>\n",
       "      <td>Scotland</td>\n",
       "      <td>False</td>\n",
       "    </tr>\n",
       "    <tr>\n",
       "      <th>1</th>\n",
       "      <td>1873-03-08 00:00:00</td>\n",
       "      <td>England</td>\n",
       "      <td>Scotland</td>\n",
       "      <td>4</td>\n",
       "      <td>2</td>\n",
       "      <td>Friendly</td>\n",
       "      <td>London</td>\n",
       "      <td>England</td>\n",
       "      <td>False</td>\n",
       "    </tr>\n",
       "    <tr>\n",
       "      <th>2</th>\n",
       "      <td>1874-03-07 00:00:00</td>\n",
       "      <td>Scotland</td>\n",
       "      <td>England</td>\n",
       "      <td>2</td>\n",
       "      <td>1</td>\n",
       "      <td>Friendly</td>\n",
       "      <td>Glasgow</td>\n",
       "      <td>Scotland</td>\n",
       "      <td>False</td>\n",
       "    </tr>\n",
       "    <tr>\n",
       "      <th>3</th>\n",
       "      <td>1875-03-06 00:00:00</td>\n",
       "      <td>England</td>\n",
       "      <td>Scotland</td>\n",
       "      <td>2</td>\n",
       "      <td>2</td>\n",
       "      <td>Friendly</td>\n",
       "      <td>London</td>\n",
       "      <td>England</td>\n",
       "      <td>False</td>\n",
       "    </tr>\n",
       "    <tr>\n",
       "      <th>4</th>\n",
       "      <td>1876-03-04 00:00:00</td>\n",
       "      <td>Scotland</td>\n",
       "      <td>England</td>\n",
       "      <td>3</td>\n",
       "      <td>0</td>\n",
       "      <td>Friendly</td>\n",
       "      <td>Glasgow</td>\n",
       "      <td>Scotland</td>\n",
       "      <td>False</td>\n",
       "    </tr>\n",
       "  </tbody>\n",
       "</table>\n",
       "</div>"
      ],
      "text/plain": [
       "                  date home_team away_team  home_score  away_score tournament  \\\n",
       "0  1872-11-30 00:00:00  Scotland   England           0           0   Friendly   \n",
       "1  1873-03-08 00:00:00   England  Scotland           4           2   Friendly   \n",
       "2  1874-03-07 00:00:00  Scotland   England           2           1   Friendly   \n",
       "3  1875-03-06 00:00:00   England  Scotland           2           2   Friendly   \n",
       "4  1876-03-04 00:00:00  Scotland   England           3           0   Friendly   \n",
       "\n",
       "      city   country  neutral  \n",
       "0  Glasgow  Scotland    False  \n",
       "1   London   England    False  \n",
       "2  Glasgow  Scotland    False  \n",
       "3   London   England    False  \n",
       "4  Glasgow  Scotland    False  "
      ]
     },
     "execution_count": 15,
     "metadata": {},
     "output_type": "execute_result"
    }
   ],
   "source": [
    "df.head()"
   ]
  },
  {
   "cell_type": "code",
   "execution_count": 24,
   "id": "520d678b-6ca3-4bcc-b554-51a4baa4f3c8",
   "metadata": {
    "tags": []
   },
   "outputs": [
    {
     "data": {
      "text/plain": [
       "neutral\n",
       "False    32076\n",
       "True     10574\n",
       "Name: count, dtype: int64"
      ]
     },
     "execution_count": 24,
     "metadata": {},
     "output_type": "execute_result"
    }
   ],
   "source": [
    "neutral = df[\"neutral\"].value_counts()\n",
    "neutral"
   ]
  },
  {
   "cell_type": "code",
   "execution_count": 30,
   "id": "9f153c8a-86c2-4810-b8a0-6829aa5a100f",
   "metadata": {
    "tags": []
   },
   "outputs": [
    {
     "data": {
      "text/plain": [
       "Text(0.5, 1.0, 'Neutral column')"
      ]
     },
     "execution_count": 30,
     "metadata": {},
     "output_type": "execute_result"
    },
    {
     "data": {
      "image/png": "[encoded data removed]",
      "text/plain": [
       "<Figure size 1800x500 with 1 Axes>"
      ]
     },
     "metadata": {},
     "output_type": "display_data"
    }
   ],
   "source": [
    "plt.figure(figsize =(18,5))\n",
    "plt.pie(neutral, \n",
    "        labels = neutral.index,\n",
    "       autopct='%1.1f%%')\n",
    "plt.title(\"Neutral column\")\n",
    "#plt.legend(loc = \"upper left\",labels = home_team.index,bbox_to_anchor=(0, 1.1))"
   ]
  },
  {
   "cell_type": "code",
   "execution_count": 36,
   "id": "0e8d6a5b-83b0-4e25-81be-b06e2f28abf3",
   "metadata": {
    "tags": []
   },
   "outputs": [
    {
     "name": "stdout",
     "output_type": "stream",
     "text": [
      "308\n",
      "306\n"
     ]
    }
   ],
   "source": [
    "home = df[\"home_team\"].unique()\n",
    "print(len(home))\n",
    "away = df[\"away_team\"].unique()\n",
    "print(len(away))"
   ]
  },
  {
   "cell_type": "markdown",
   "id": "427fe6c6-4fa6-419f-bf7e-b5e56daa48ba",
   "metadata": {},
   "source": [
    "We can have the same team name in home and away for different dates. Therefore, well use an auxiliary list to get all the teams names and the get only the unique."
   ]
  },
  {
   "cell_type": "code",
   "execution_count": 37,
   "id": "f50c5c84-011d-4c3f-b0e8-846581113252",
   "metadata": {
    "tags": []
   },
   "outputs": [
    {
     "name": "stdout",
     "output_type": "stream",
     "text": [
      "Unique teams: 313\n"
     ]
    }
   ],
   "source": [
    "teams = []\n",
    "\n",
    "for i in home:\n",
    "    teams.append(i)\n",
    "for j in away:\n",
    "    teams.append(j)\n",
    "    \n",
    "teams = list(set(teams))\n",
    "print(\"Unique teams:\",len(teams))"
   ]
  }
 ],
 "metadata": {
  "kernelspec": {
   "display_name": "Python 3 (ipykernel)",
   "language": "python",
   "name": "python3"
  },
  "language_info": {
   "codemirror_mode": {
    "name": "ipython",
    "version": 3
   },
   "file_extension": ".py",
   "mimetype": "text/x-python",
   "name": "python",
   "nbconvert_exporter": "python",
   "pygments_lexer": "ipython3",
   "version": "3.11.4"
  }
 },
 "nbformat": 4,
 "nbformat_minor": 5
}
